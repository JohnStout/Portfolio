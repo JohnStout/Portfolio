{
 "cells": [
  {
   "cell_type": "markdown",
   "id": "083cea9b-5446-4aa3-ac3e-9f3e75cce836",
   "metadata": {},
   "source": [
    "#### Reanalysis idea\n",
    "----\n",
    "Watson - recorded from PFC as rats slept\n",
    "\n",
    "OG goal: During high theta states, do we observe coordinated neuronal activity patterns at theta?\n",
    "\n",
    "Actual goal: Can I identify high theta power states in the cortex?\n",
    "\n",
    "----\n",
    "Processing variable contains awake and sleep data"
   ]
  },
  {
   "cell_type": "markdown",
   "id": "4012d8f9-818d-49bc-8078-f5a352029e3a",
   "metadata": {},
   "source": [
    "#### Define dandiset"
   ]
  },
  {
   "cell_type": "code",
   "execution_count": 16,
   "id": "aa4aab52-a55a-4978-8cb6-876db1d77aca",
   "metadata": {},
   "outputs": [],
   "source": [
    "# dandiset ID\n",
    "dandiset_id = '000041'\n",
    "\n",
    "# libraries\n",
    "import pynwb\n",
    "import requests\n",
    "from nwbwidgets import nwb2widget\n",
    "from pynwb import NWBHDF5IO\n",
    "import pandas\n",
    "import numpy as np"
   ]
  },
  {
   "cell_type": "markdown",
   "id": "56153b5f-60db-4fb4-a61a-c452386a5872",
   "metadata": {},
   "source": [
    "#### Prep stuff"
   ]
  },
  {
   "cell_type": "code",
   "execution_count": 17,
   "id": "2b5d8e2c-b432-4a48-adc8-84ca30064fa2",
   "metadata": {},
   "outputs": [],
   "source": [
    "def _search_assets(url, filepath):\n",
    "    response = requests.request(\"GET\", url, headers={\"Accept\": \"application/json\"}).json() \n",
    "    \n",
    "    for asset in response[\"results\"]:\n",
    "        if filepath == asset[\"path\"]:\n",
    "            return asset[\"asset_id\"]\n",
    "    \n",
    "    if response.get(\"next\", None):\n",
    "        return _search_assets(response[\"next\"], filepath)\n",
    "    \n",
    "    raise ValueError(f'path {filepath} not found in dandiset {dandiset_id}.')\n",
    "\n",
    "def get_asset_id(dandiset_id, filepath):\n",
    "    url = f\"https://api.dandiarchive.org/api/dandisets/{dandiset_id}/versions/draft/assets/\"\n",
    "    return _search_assets(url, filepath)\n",
    "\n",
    "def get_s3_url(dandiset_id, filepath):\n",
    "    \"\"\"Get the s3 location for any NWB file on DANDI\"\"\"\n",
    "\n",
    "    asset_id = get_asset_id(dandiset_id, filepath)\n",
    "    url = f\"https://api.dandiarchive.org/api/dandisets/{dandiset_id}/versions/draft/assets/{asset_id}/download/\"\n",
    "    \n",
    "    s3_url = requests.request(url=url, method='head').url\n",
    "    if '?' in s3_url:\n",
    "        return s3_url[:s3_url.index('?')]\n",
    "    return s3_url"
   ]
  },
  {
   "cell_type": "code",
   "execution_count": 18,
   "id": "18fd1f91-f294-4b8e-8825-a0bc1681751a",
   "metadata": {},
   "outputs": [],
   "source": [
    "from dandi.dandiapi import DandiAPIClient\n",
    "from pynwb import NWBHDF5IO\n",
    "import os # import os\n",
    "\n",
    "# lets get all sessions for each rat\n",
    "with DandiAPIClient() as client:\n",
    "    \n",
    "    # get dandiset using the ID code\n",
    "    dandiset = client.get_dandiset(dandiset_id,'draft')\n",
    "    \n",
    "    # list splits the \"zipped\" generator file\n",
    "    assets   = list(dandiset.get_assets())\n",
    "    \n",
    "    # list comprehension\n",
    "    rats = {os.path.split(x.path)[0] for x in assets} # list comprehension, for loop, {} if unique\n",
    "\n",
    "    # actually just work with sessions for now and call it a day\n",
    "    sessions = [x.path for x in assets]\n",
    "    #print(sessions)\n",
    "\n",
    "    #asset = client.get_dandiset(dandiset_id, 'draft').get_asset_by_path(filepath)\n",
    "    #s3_url = asset.get_content_url(follow_redirects=1, strip_query=True)"
   ]
  },
  {
   "cell_type": "markdown",
   "id": "ed06c0da-1203-4ade-88cc-532725df62d1",
   "metadata": {
    "tags": []
   },
   "source": [
    "#### Get one session for now"
   ]
  },
  {
   "cell_type": "code",
   "execution_count": 20,
   "id": "a7b7562e-cd09-495d-a947-0f35e029b1f9",
   "metadata": {},
   "outputs": [
    {
     "data": {
      "text/plain": [
       "{'sub-BWRat17',\n",
       " 'sub-BWRat18',\n",
       " 'sub-BWRat19',\n",
       " 'sub-BWRat20',\n",
       " 'sub-BWRat21',\n",
       " 'sub-Bogey',\n",
       " 'sub-Dino',\n",
       " 'sub-Rizzo',\n",
       " 'sub-Splinter',\n",
       " 'sub-Templeton'}"
      ]
     },
     "execution_count": 20,
     "metadata": {},
     "output_type": "execute_result"
    }
   ],
   "source": [
    "# using the rats variables, organize your data\n",
    "rats"
   ]
  },
  {
   "cell_type": "code",
   "execution_count": 21,
   "id": "78bf54aa-14c3-466c-b968-91df04ab0501",
   "metadata": {},
   "outputs": [
    {
     "data": {
      "text/plain": [
       "['sub-BWRat17/sub-BWRat17_ses-BWRat17-121912_ecephys.nwb',\n",
       " 'sub-BWRat17/sub-BWRat17_ses-BWRat17-121712_ecephys.nwb',\n",
       " 'sub-BWRat18/sub-BWRat18_ses-BWRat18-020513_ecephys.nwb',\n",
       " 'sub-BWRat19/sub-BWRat19_ses-BWRat19-032413_ecephys.nwb',\n",
       " 'sub-BWRat19/sub-BWRat19_ses-BWRat19-032513_ecephys.nwb',\n",
       " 'sub-BWRat20/sub-BWRat20_ses-BWRat20-101013_ecephys.nwb',\n",
       " 'sub-BWRat20/sub-BWRat20_ses-BWRat20-101513_ecephys.nwb',\n",
       " 'sub-BWRat21/sub-BWRat21_ses-BWRat21-121613_ecephys.nwb',\n",
       " 'sub-Bogey/sub-Bogey_ses-Bogey-012615_ecephys.nwb',\n",
       " 'sub-BWRat21/sub-BWRat21_ses-BWRat21-121813_ecephys.nwb',\n",
       " 'sub-BWRat21/sub-BWRat21_ses-BWRat21-121113_ecephys.nwb',\n",
       " 'sub-Dino/sub-Dino_ses-Dino-061814_ecephys.nwb',\n",
       " 'sub-Dino/sub-Dino_ses-Dino-072314_ecephys.nwb',\n",
       " 'sub-Dino/sub-Dino_ses-Dino-072114_ecephys.nwb',\n",
       " 'sub-Dino/sub-Dino_ses-Dino-061914_ecephys.nwb',\n",
       " 'sub-Dino/sub-Dino_ses-Dino-072414_ecephys.nwb',\n",
       " 'sub-Dino/sub-Dino_ses-Dino-062014_ecephys.nwb',\n",
       " 'sub-Rizzo/sub-Rizzo_ses-Rizzo-022715_ecephys.nwb',\n",
       " 'sub-Rizzo/sub-Rizzo_ses-Rizzo-022615_ecephys.nwb',\n",
       " 'sub-Splinter/sub-Splinter_ses-Splinter-020515_ecephys.nwb',\n",
       " 'sub-Splinter/sub-Splinter_ses-Splinter-020915_ecephys.nwb',\n",
       " 'sub-Templeton/sub-Templeton_ses-Templeton-032415_ecephys.nwb']"
      ]
     },
     "execution_count": 21,
     "metadata": {},
     "output_type": "execute_result"
    }
   ],
   "source": [
    "sessions "
   ]
  },
  {
   "cell_type": "code",
   "execution_count": 6,
   "id": "a5d97435-800c-4c1a-97c3-907161ba1d2a",
   "metadata": {},
   "outputs": [
    {
     "ename": "NameError",
     "evalue": "name 'nwb' is not defined",
     "output_type": "error",
     "traceback": [
      "\u001b[0;31m---------------------------------------------------------------------------\u001b[0m",
      "\u001b[0;31mNameError\u001b[0m                                 Traceback (most recent call last)",
      "Input \u001b[0;32mIn [6]\u001b[0m, in \u001b[0;36m<cell line: 1>\u001b[0;34m()\u001b[0m\n\u001b[0;32m----> 1\u001b[0m \u001b[43mnwb\u001b[49m\n",
      "\u001b[0;31mNameError\u001b[0m: name 'nwb' is not defined"
     ]
    }
   ],
   "source": [
    "#nwb"
   ]
  },
  {
   "cell_type": "code",
   "execution_count": 22,
   "id": "b263d9da-bfaa-45d4-828b-f425fb2674d9",
   "metadata": {},
   "outputs": [
    {
     "name": "stderr",
     "output_type": "stream",
     "text": [
      "/opt/conda/lib/python3.10/site-packages/hdmf/spec/namespace.py:531: UserWarning: Ignoring cached namespace 'hdmf-common' version 1.1.3 because version 1.5.1 is already loaded.\n",
      "  warn(\"Ignoring cached namespace '%s' version %s because version %s is already loaded.\"\n"
     ]
    }
   ],
   "source": [
    "# select 1 session for now to get code working\n",
    "tempAssetID = sessions[0]\n",
    "asset_id = get_asset_id(dandiset_id, tempAssetID) # this is the URL for download\n",
    "s3_path  = get_s3_url(dandiset_id, tempAssetID) # this is the path to streaming\n",
    "#print(asset_id)\n",
    "\n",
    "# use the \"Read Only S3\" (ros3) driver to stream data directly from DANDI (or any other S3 location)\n",
    "io = NWBHDF5IO(s3_path, mode='r', load_namespaces=True, driver='ros3')\n",
    "\n",
    "# read nwb file according to the s3 bucket path\n",
    "nwb = io.read()\n",
    "\n",
    "#Get the fields within the NWB file\n",
    "nwbFields = nwb.fields\n",
    "#print(nwbFields)\n",
    "\n",
    "#from nwbwidgets import nwb2widget\n",
    "#nwb2widget(nwb)\n",
    "\n",
    "# read out the nwb file as it is a dict\n",
    "nwbFile = nwb.electrodes['location'].data[:]\n",
    "#nwbFile = nwb.intervals['epochs']\n",
    "regions = list(nwbFile)\n",
    "\n",
    "#nwb.trials.to_dataframe()"
   ]
  },
  {
   "cell_type": "code",
   "execution_count": 23,
   "id": "61ef9959-2175-4c7e-ba12-a055ed1e7148",
   "metadata": {},
   "outputs": [
    {
     "data": {
      "text/plain": [
       "root pynwb.file.NWBFile at 0x140289974826224\n",
       "Fields:\n",
       "  devices: {\n",
       "    implant <class 'pynwb.device.Device'>\n",
       "  }\n",
       "  electrode_groups: {\n",
       "    shank1 <class 'pynwb.ecephys.ElectrodeGroup'>,\n",
       "    shank2 <class 'pynwb.ecephys.ElectrodeGroup'>,\n",
       "    shank3 <class 'pynwb.ecephys.ElectrodeGroup'>,\n",
       "    shank4 <class 'pynwb.ecephys.ElectrodeGroup'>,\n",
       "    shank5 <class 'pynwb.ecephys.ElectrodeGroup'>,\n",
       "    shank6 <class 'pynwb.ecephys.ElectrodeGroup'>,\n",
       "    shank7 <class 'pynwb.ecephys.ElectrodeGroup'>,\n",
       "    shank8 <class 'pynwb.ecephys.ElectrodeGroup'>,\n",
       "    shank9 <class 'pynwb.ecephys.ElectrodeGroup'>\n",
       "  }\n",
       "  electrodes: electrodes <class 'hdmf.common.table.DynamicTable'>\n",
       "  experimenter: ['Brendon Watson']\n",
       "  file_create_date: [datetime.datetime(2020, 10, 3, 13, 49, 41, 955624, tzinfo=tzoffset(None, -14400))]\n",
       "  identifier: BWRat17_121912\n",
       "  institution: NYU\n",
       "  lab: Buzsaki\n",
       "  processing: {\n",
       "    behavior <class 'pynwb.base.ProcessingModule'>,\n",
       "    ecephys <class 'pynwb.base.ProcessingModule'>\n",
       "  }\n",
       "  related_publications: ['Network Homeostasis and State Dynamics of Neocortical SleepWatson BO, Levenstein D, Greene JP, Gelinas JN, Buzsáki G.Neuron. 2016 Apr 27. pii: S0896-6273(16)30056-3.doi: 10.1016/j.neuron.2016.03.036']\n",
       "  session_description: Data was recorded using silicon probe electrodes in the frontal cortices of male Long Evans rats between 4-7 months of age. The design was to have no specific behavior, task or stimulus, rather the animal was left alone in it’s home cage (which it lives in at all times).\n",
       "  session_id: BWRat17_121912\n",
       "  session_start_time: 2012-12-19 00:00:00-05:00\n",
       "  subject: subject pynwb.file.Subject at 0x140289974820176\n",
       "Fields:\n",
       "  age: 3-7 months\n",
       "  genotype: Wild type\n",
       "  species: Rattus norvegicus domestica - Long Evans\n",
       "  subject_id: BWRat17\n",
       "  weight: 250-500g\n",
       "\n",
       "  timestamps_reference_time: 2012-12-19 00:00:00-05:00\n",
       "  units: units <class 'pynwb.misc.Units'>"
      ]
     },
     "execution_count": 23,
     "metadata": {},
     "output_type": "execute_result"
    }
   ],
   "source": [
    "nwb"
   ]
  },
  {
   "cell_type": "code",
   "execution_count": 24,
   "id": "af70a87d-c8c6-45fd-8a08-e1db67358b7f",
   "metadata": {},
   "outputs": [
    {
     "data": {
      "application/vnd.jupyter.widget-view+json": {
       "model_id": "d6f76d830ff94924a719480537588cc2",
       "version_major": 2,
       "version_minor": 0
      },
      "text/plain": [
       "VBox(children=(HBox(children=(Label(value='session_description:', layout=Layout(max_height='40px', max_width='…"
      ]
     },
     "metadata": {},
     "output_type": "display_data"
    }
   ],
   "source": [
    "nwb2widget(nwb)"
   ]
  },
  {
   "cell_type": "code",
   "execution_count": 25,
   "id": "892ae1e8-3128-4e17-ac7d-1f3522f62ef0",
   "metadata": {},
   "outputs": [
    {
     "data": {
      "text/plain": [
       "(71, 3)"
      ]
     },
     "execution_count": 25,
     "metadata": {},
     "output_type": "execute_result"
    }
   ],
   "source": [
    "# get behavioral data into dataframe\n",
    "df_behavior = nwb.processing['behavior']['states'].to_dataframe()\n",
    "df_behavior.shape"
   ]
  },
  {
   "cell_type": "markdown",
   "id": "9376ee2a-0afe-47b8-a519-780c81c91e8c",
   "metadata": {},
   "source": [
    "Note that what you see below is simplified.\n",
    "\n",
    "You could also do the following (which closely resembles dict organization):\n",
    "\n",
    "`nwb.processing['ecephys'].data_interfaces['LFP'].electrical_series['lfp']`"
   ]
  },
  {
   "cell_type": "code",
   "execution_count": 26,
   "id": "2e409bd3-2de4-4d6c-96c3-9371053f0e79",
   "metadata": {},
   "outputs": [],
   "source": [
    "# get lfp data out from just 1 shank\n",
    "lfpData_s1 = nwb.processing['ecephys']['LFP']['lfp'].data[:,0:8]"
   ]
  },
  {
   "cell_type": "code",
   "execution_count": 10,
   "id": "71c95e79-cddd-47d0-800f-df609af13bb9",
   "metadata": {},
   "outputs": [
    {
     "data": {
      "text/plain": [
       "(27354000, 8)"
      ]
     },
     "execution_count": 10,
     "metadata": {},
     "output_type": "execute_result"
    }
   ],
   "source": [
    "lfpData_s1.shape"
   ]
  },
  {
   "cell_type": "code",
   "execution_count": 11,
   "id": "a3fb33c5-1201-4daa-ae12-f67a61b342ac",
   "metadata": {},
   "outputs": [
    {
     "data": {
      "text/plain": [
       "numpy.int64"
      ]
     },
     "execution_count": 11,
     "metadata": {},
     "output_type": "execute_result"
    }
   ],
   "source": [
    "# get the sampling rate of LFP - make sure this is an int-type (rounded, whole number) for indexing\n",
    "srate_lfp = nwb.processing['ecephys']['LFP']['lfp'].rate.astype(int)\n",
    "type(srate_lfp)"
   ]
  },
  {
   "cell_type": "code",
   "execution_count": 12,
   "id": "af2f3156-6a97-440f-8056-b955da976931",
   "metadata": {},
   "outputs": [],
   "source": [
    "exData = lfpData_s1[0:1250-1,0]"
   ]
  },
  {
   "cell_type": "code",
   "execution_count": 13,
   "id": "feecbec2-4515-44cd-b447-68f2ad29b75a",
   "metadata": {},
   "outputs": [
    {
     "data": {
      "text/plain": [
       "[<matplotlib.lines.Line2D at 0x7f24a544ff40>]"
      ]
     },
     "execution_count": 13,
     "metadata": {},
     "output_type": "execute_result"
    },
    {
     "data": {
      "image/png": "[encoded data removed]",
      "text/plain": [
       "<Figure size 432x288 with 1 Axes>"
      ]
     },
     "metadata": {
      "needs_background": "light"
     },
     "output_type": "display_data"
    }
   ],
   "source": [
    "# plot example trace\n",
    "import matplotlib.pyplot as plt\n",
    "plt.plot(exData)"
   ]
  },
  {
   "cell_type": "code",
   "execution_count": 154,
   "id": "6049545d-f16f-4578-96f9-b6f8c79d79e3",
   "metadata": {},
   "outputs": [
    {
     "data": {
      "text/plain": [
       "array([ 129,  157,  234, ..., -177, -232, -229], dtype=int16)"
      ]
     },
     "execution_count": 154,
     "metadata": {},
     "output_type": "execute_result"
    }
   ],
   "source": [
    "# calculate coherence over moving window\n",
    "amountData = srate_lfp*120 # 120 seconds\n",
    "slData = lfpData_s1[0:amountData-1,1]\n",
    "slData"
   ]
  },
  {
   "cell_type": "code",
   "execution_count": 155,
   "id": "8d14d6fc-2b8f-484d-8b40-384e69e7e752",
   "metadata": {},
   "outputs": [
    {
     "data": {
      "text/plain": [
       "[<matplotlib.lines.Line2D at 0x7f248362c700>]"
      ]
     },
     "execution_count": 155,
     "metadata": {},
     "output_type": "execute_result"
    },
    {
     "data": {
      "image/png": "[encoded data removed]",
      "text/plain": [
       "<Figure size 432x288 with 1 Axes>"
      ]
     },
     "metadata": {
      "needs_background": "light"
     },
     "output_type": "display_data"
    }
   ],
   "source": [
    "# notice that this plot has some noise peaks, I'm ignoring them for now\n",
    "plt.plot(slData)"
   ]
  },
  {
   "cell_type": "code",
   "execution_count": 18,
   "id": "cfe613c5-6c89-4cc2-a142-802ca56c63d0",
   "metadata": {},
   "outputs": [],
   "source": [
    "from obspy.signal.detrend import polynomial\n",
    "from scipy.signal import welch"
   ]
  },
  {
   "cell_type": "code",
   "execution_count": 156,
   "id": "510fd95e-e02e-4f32-a015-a2aa3ea7c3b8",
   "metadata": {},
   "outputs": [],
   "source": [
    "# run power spectrum using 1.25s increments over .25s steps\n",
    "amountTime = (srate_lfp*1.5).astype(int)\n",
    "tempData = slData[0:amountTime-1]\n",
    "\n",
    "# detrend data by fitting and removing a 3rd degree polynomial\n",
    "dataDet  = polynomial(tempData,3)\n",
    "\n",
    "# power spectrum\n",
    "f,Ptemp = welch(tempData,srate_lfp.astype(float),nperseg=1000)\n",
    "\n",
    "# restrict data to 1-50hz for plot proofing\n",
    "#f[f>1]\n",
    "idxspec = np.where((f>1) & (f<100))\n",
    "fSpec = f[idxspec]\n",
    "PSpec = Ptemp[idxspec]\n",
    "\n",
    "# log10 transform\n",
    "PSpecLog = np.log10(PSpec)"
   ]
  },
  {
   "cell_type": "code",
   "execution_count": 157,
   "id": "0f4bff17-147c-40d1-8c4b-510b37c12458",
   "metadata": {},
   "outputs": [
    {
     "data": {
      "text/plain": [
       "Text(0.5, 1.0, '6-9hz theta oscillation')"
      ]
     },
     "execution_count": 157,
     "metadata": {},
     "output_type": "execute_result"
    },
    {
     "data": {
      "image/png": "[encoded data removed]",
      "text/plain": [
       "<Figure size 432x288 with 2 Axes>"
      ]
     },
     "metadata": {
      "needs_background": "light"
     },
     "output_type": "display_data"
    }
   ],
   "source": [
    "#plt.plot(dataDet)\n",
    "fig, (ax1, ax2) = plt.subplots(1, 2)\n",
    "ax1.plot(fSpec,PSpecLog)\n",
    "ax1.set_xlim([0, 100])\n",
    "ax1.set_ylim([1,5])\n",
    "ax1.set_xlabel('Frequency (Hz)')\n",
    "ax1.set_ylabel('log10 Power')\n",
    "ax1.set_title('Power spectrum from example data')\n",
    "\n",
    "ax2.plot(fSpec,PSpecLog)\n",
    "ax2.set_xlim([4,12])\n",
    "ax2.set_ylim([2.5,5])\n",
    "ax2.set_xlabel('Frequency (Hz)')\n",
    "ax2.set_ylabel('log10 Power')\n",
    "ax2.set_title('6-9hz theta oscillation')"
   ]
  },
  {
   "cell_type": "code",
   "execution_count": 107,
   "id": "61fd5231-b559-401e-83bf-dfce1b5ad3d5",
   "metadata": {},
   "outputs": [
    {
     "name": "stdout",
     "output_type": "stream",
     "text": [
      "[363864.28362853 149786.58536546 200503.43479989 ... 111690.77608238\n",
      " 166726.52845051 406736.86197149]\n"
     ]
    }
   ],
   "source": [
    "# define spectral coherence\n",
    "#from scipy.signal import hilbert\n",
    "\n",
    "# filter for theta\n",
    "\n",
    "# hilbert transform\n",
    "#hilbData = hilbert(slData)\n",
    "# instantaneous power = inst ampl^2\n",
    "#instPower = pow(np.abs(hilbData),2)\n",
    "#print(instPower)\n",
    "#instPower.shape"
   ]
  },
  {
   "cell_type": "markdown",
   "id": "d983687d-0a06-436f-b4fc-3d3164ed01e2",
   "metadata": {
    "tags": []
   },
   "source": [
    "----\n",
    "#### Moving window power spectral estimations\n",
    "\n",
    "----"
   ]
  },
  {
   "cell_type": "code",
   "execution_count": 158,
   "id": "ba074ba4-fc02-4924-8061-4f384e028e0f",
   "metadata": {},
   "outputs": [],
   "source": [
    "windowSize = (srate_lfp*1.5).astype(int)\n",
    "windowStep = (srate_lfp*0.2).astype(int)\n",
    "totalDataSize = len(slData)\n",
    "#print(windowStep)\n",
    "\n",
    "# make a looper variable from 0, every 200ms, to end of data\n",
    "looperVar = np.arange(0,totalDataSize,windowStep-1)\n",
    "#looperVar"
   ]
  },
  {
   "cell_type": "markdown",
   "id": "f60403d9-760e-4572-8a0a-d52e8d296186",
   "metadata": {},
   "source": [
    "----\n",
    "#### Get the mean and std of the distribution to define movement artifacts\n",
    "----"
   ]
  },
  {
   "cell_type": "code",
   "execution_count": 159,
   "id": "72fbf8cf-d1a7-4d82-8a68-75495e4f64e8",
   "metadata": {},
   "outputs": [],
   "source": [
    "# get mean and std of entire distribution of dataset\n",
    "from scipy.stats import zscore\n",
    "zSlData = zscore(slData)"
   ]
  },
  {
   "cell_type": "code",
   "execution_count": 161,
   "id": "7396901b-f5bb-4dca-b548-25ddce21d8e5",
   "metadata": {},
   "outputs": [
    {
     "data": {
      "text/plain": [
       "[<matplotlib.lines.Line2D at 0x7f24833bc7c0>]"
      ]
     },
     "execution_count": 161,
     "metadata": {},
     "output_type": "execute_result"
    },
    {
     "data": {
      "image/png": "[encoded data removed]",
      "text/plain": [
       "<Figure size 432x288 with 1 Axes>"
      ]
     },
     "metadata": {
      "needs_background": "light"
     },
     "output_type": "display_data"
    }
   ],
   "source": [
    "stepi = 10\n",
    "#print([looperVar[stepi]:looperVar[stepi+1]])\n",
    "temp = zSlData[looperVar[stepi]:looperVar[stepi]+windowSize]\n",
    "plt.plot(temp)"
   ]
  },
  {
   "cell_type": "code",
   "execution_count": 162,
   "id": "0406aea7-a2f0-437e-945f-fa8a6a6ef43f",
   "metadata": {},
   "outputs": [
    {
     "data": {
      "text/plain": [
       "1874"
      ]
     },
     "execution_count": 162,
     "metadata": {},
     "output_type": "execute_result"
    }
   ],
   "source": [
    "(looperVar[0]+windowSize)-1"
   ]
  },
  {
   "cell_type": "code",
   "execution_count": 163,
   "id": "00503463-edec-4196-906f-e2d3cd3af2c5",
   "metadata": {},
   "outputs": [
    {
     "data": {
      "text/plain": [
       "range(0, 603)"
      ]
     },
     "execution_count": 163,
     "metadata": {},
     "output_type": "execute_result"
    }
   ],
   "source": [
    "range(len(looperVar))"
   ]
  },
  {
   "cell_type": "code",
   "execution_count": 411,
   "id": "159e871a-8248-4ffa-b068-539f5a419546",
   "metadata": {},
   "outputs": [],
   "source": [
    "powTheta = []\n",
    "powDelta = []\n",
    "powThetaAll = []\n",
    "arrayAll = []\n",
    "arrayTheta = []\n",
    "for i in range(len(looperVar)):\n",
    "    \n",
    "    # get temp data\n",
    "    tempData = slData[looperVar[i]:(looperVar[i]+windowSize)-1]\n",
    "\n",
    "    if len(tempData) != ((looperVar[0]+windowSize)-1):\n",
    "        continue\n",
    "        \n",
    "    # detrend data by fitting and removing a 3rd degree polynomial\n",
    "    dataDet  = polynomial(tempData,3)  \n",
    "\n",
    "    # power spectrum\n",
    "    f,Ptemp = welch(tempData,srate_lfp.astype(float),nperseg=1000)\n",
    "\n",
    "    # restrict data to 1-50hz for plot proofing\n",
    "    #f[f>1]\n",
    "    idxspec = np.where((f>0) & (f<100))\n",
    "    fSpec = f[idxspec]\n",
    "    #print(f)\n",
    "    PSpec = Ptemp[idxspec]\n",
    "\n",
    "    # log10 transform\n",
    "    PSpecLog = np.log10(PSpec) \n",
    "    #plt.plot(fSpec,PSpecLog)\n",
    "\n",
    "    # now get theta out\n",
    "    idxTheta = np.where((fSpec > 6) & (fSpec < 9))\n",
    "    #print(f[idxTheta])\n",
    "    Ptheta  = np.mean(PSpecLog[idxTheta])\n",
    "    \n",
    "    # get delta power\n",
    "    idxDelta = np.where((fSpec > 1) & (fSpec < 4))\n",
    "    Pdelta = np.mean(PSpecLog[idxDelta])\n",
    "    \n",
    "    # store data if theta > delta - actually this isn't the best way.\n",
    "    # we should instead fit a line that assumes a 1/f distribution matching the \n",
    "    # power spectrum, then find instances when theta power is above 1std from the mean\n",
    "    if Ptheta > Pdelta:\n",
    "        powTheta.append(Ptheta)\n",
    "        arrayTheta.append(PSpecLog)\n",
    "    if Pdelta > Ptheta:\n",
    "        powDelta.append(Pdelta)\n",
    "    \n",
    "    powThetaAll.append(powThetaAll)\n",
    "    \n",
    "    # hstack the array into a list\n",
    "    arrayAll.append(np.hstack(PSpecLog))\n",
    "\n",
    "# this array contains vertically concatenated\n",
    "arrayAll   = np.vstack(array)\n",
    "arrayTheta = np.vstack(arrayTheta)\n",
    "    "
   ]
  },
  {
   "cell_type": "code",
   "execution_count": 412,
   "id": "47b138a8-b101-466e-ba03-da2c822c7dda",
   "metadata": {},
   "outputs": [
    {
     "data": {
      "text/plain": [
       "Text(0, 0.5, 'log10 prefrontal 6-9hz power')"
      ]
     },
     "execution_count": 412,
     "metadata": {},
     "output_type": "execute_result"
    },
    {
     "data": {
      "image/png": "[encoded data removed]",
      "text/plain": [
       "<Figure size 432x288 with 1 Axes>"
      ]
     },
     "metadata": {
      "needs_background": "light"
     },
     "output_type": "display_data"
    }
   ],
   "source": [
    "numEvents = np.linspace(1,len(powTheta),len(powTheta))\n",
    "plt.scatter(numEvents,powTheta)\n",
    "plt.title('Cluster changes with session - something weird happen?')\n",
    "plt.xlabel('Number of epochs')\n",
    "plt.ylabel('log10 prefrontal 6-9hz power')"
   ]
  },
  {
   "cell_type": "markdown",
   "id": "72453e9d-528d-460c-aafb-af54ed4479c6",
   "metadata": {},
   "source": [
    "Lets do some kmeans clustering, then go back to the power spectra."
   ]
  },
  {
   "cell_type": "code",
   "execution_count": 477,
   "id": "5f67af1d-ac77-4716-a104-6aa0cfd0aa7d",
   "metadata": {},
   "outputs": [],
   "source": [
    "from sklearn.datasets import make_blobs\n",
    "X, y = make_blobs(random_state=1)\n",
    "\n",
    "# convert to matrix\n",
    "data4k = []\n",
    "data4k.append(np.hstack(np.array(numEvents)))\n",
    "data4k.append(np.hstack(np.array(powTheta)))\n",
    "data4k = np.vstack(data4k)\n",
    "type(data4k)\n",
    "data4k = np.transpose(data4k)\n",
    "\n",
    "# use unsupervised approach\n",
    "from sklearn.cluster import KMeans\n",
    "\n",
    "# kmeans\n",
    "kmeans = KMeans(n_clusters=2)\n",
    "kmeans.fit(data4k)\n",
    "\n",
    "# indexed events through kmeans\n",
    "idxKMeans = kmeans.predict(data4k)\n",
    "#print(idxKMeans)\n",
    "#print(np.where(idxKMeans==0))\n",
    "\n",
    "# get the split data\n",
    "idxSplit1 = np.where(idxKMeans==1)\n",
    "idxSplit0 = np.where(idxKMeans==0)\n",
    "\n",
    "# plot the data\n",
    "thetaPow1 = arrayTheta[idxSplit1,]\n",
    "thetaPow0 = arrayTheta[idxSplit0,]\n"
   ]
  },
  {
   "cell_type": "code",
   "execution_count": 478,
   "id": "f4dbebee-86ae-4a47-825d-2dde45c5b5c7",
   "metadata": {},
   "outputs": [],
   "source": [
    "# reshape\n",
    "shape0 = thetaPow0.shape\n",
    "shape0 = shape0[1:]\n",
    "shape1 = thetaPow1.shape\n",
    "shape1 = shape1[1:]"
   ]
  },
  {
   "cell_type": "code",
   "execution_count": 480,
   "id": "c2b8d043-115e-4886-92db-27ce2570fe4e",
   "metadata": {},
   "outputs": [
    {
     "data": {
      "text/plain": [
       "tuple"
      ]
     },
     "execution_count": 480,
     "metadata": {},
     "output_type": "execute_result"
    }
   ],
   "source": [
    "type(shape0)"
   ]
  },
  {
   "cell_type": "code",
   "execution_count": 481,
   "id": "c09df1c6-dee7-47ac-be7f-190ace313ba7",
   "metadata": {},
   "outputs": [],
   "source": [
    "# reshape\n",
    "thetaPow0 = np.reshape(thetaPow0,[shape0[0], shape0[1]])\n",
    "thetaPow1 = np.reshape(thetaPow1,[shape1[0], shape1[1]])"
   ]
  },
  {
   "cell_type": "code",
   "execution_count": 486,
   "id": "80f2cd2e-b059-4eec-b220-2f005d4e549a",
   "metadata": {},
   "outputs": [],
   "source": [
    "# avg and error?\n",
    "avgPow1 = np.mean(thetaPow1,axis=0)\n",
    "avgPow0 = np.mean(thetaPow0,axis=0)"
   ]
  },
  {
   "cell_type": "code",
   "execution_count": 497,
   "id": "434f2492-f558-4e19-80a1-75046d06000d",
   "metadata": {},
   "outputs": [
    {
     "data": {
      "text/plain": [
       "(1.0, 5.0)"
      ]
     },
     "execution_count": 497,
     "metadata": {},
     "output_type": "execute_result"
    },
    {
     "data": {
      "image/png": "[encoded data removed]",
      "text/plain": [
       "<Figure size 432x288 with 2 Axes>"
      ]
     },
     "metadata": {
      "needs_background": "light"
     },
     "output_type": "display_data"
    }
   ],
   "source": [
    "# get average power\n",
    "\n",
    "# prep\n",
    "fig, (ax1, ax2) = plt.subplots(1, 2)\n",
    "\n",
    "# idx 1\n",
    "ax1.plot(fSpec,avgPow1)\n",
    "ax1.set_ylabel('Log10 power')\n",
    "ax1.set_xlabel('Frequency (Hz)')\n",
    "ax1.set_title('Cluster 1')\n",
    "ax1.set_ylim([1.0,5.0])\n",
    "\n",
    "# idx 0\n",
    "ax2.plot(fSpec,avgPow0)\n",
    "ax2.set_xlabel('Frequency (Hz)')\n",
    "ax2.set_title('Cluster 0')\n",
    "ax2.set_ylim([1.0,5.0])"
   ]
  },
  {
   "cell_type": "markdown",
   "id": "e41fc8d7-7a9a-4617-9aa0-1a3ed33ad2a5",
   "metadata": {},
   "source": [
    "----\n",
    "*Something weird happened towards the end of the session. But this is good to know.\n",
    "I need to normalize or standardize the power spectrum*\n",
    "----"
   ]
  },
  {
   "cell_type": "code",
   "execution_count": 522,
   "id": "e0859a74-0e26-45b8-b733-a899e0d0d1a6",
   "metadata": {},
   "outputs": [
    {
     "data": {
      "application/vnd.jupyter.widget-view+json": {
       "model_id": "4fab5bd0db6e4a6f8576c4e52a305fdb",
       "version_major": 2,
       "version_minor": 0
      },
      "text/plain": [
       "VBox(children=(HBox(children=(Label(value='session_description:', layout=Layout(max_height='40px', max_width='…"
      ]
     },
     "metadata": {},
     "output_type": "display_data"
    }
   ],
   "source": [
    "# what sort of behavioral changes occurred?\n",
    "nwb2widget(nwb)\n",
    "# estimate timeseries\n",
    "#TimeSeries = \n"
   ]
  },
  {
   "cell_type": "markdown",
   "id": "2d98a7bb-aedc-4ab4-bfab-d8689c5ecdb9",
   "metadata": {},
   "source": [
    "#### Another approach to identifying theta events in PFC"
   ]
  },
  {
   "cell_type": "code",
   "execution_count": 498,
   "id": "801fb2b0-951e-4a52-8f1c-1447b1a557c3",
   "metadata": {},
   "outputs": [
    {
     "data": {
      "text/plain": [
       "Text(0.5, 0, 'Frequency (Hz)')"
      ]
     },
     "execution_count": 498,
     "metadata": {},
     "output_type": "execute_result"
    },
    {
     "data": {
      "image/png": "[encoded data removed]",
      "text/plain": [
       "<Figure size 432x288 with 3 Axes>"
      ]
     },
     "metadata": {
      "needs_background": "light"
     },
     "output_type": "display_data"
    }
   ],
   "source": [
    "# get average across epochs\n",
    "avgPowDist = np.mean(array,axis=0)\n",
    "\n",
    "# prep\n",
    "fig, (ax1, ax2, ax3) = plt.subplots(1, 3)\n",
    "\n",
    "# plot log10 pow\n",
    "ax1.plot(fSpec,avgPowDist)\n",
    "ax1.set_ylabel('Log10 power')\n",
    "ax1.set_xlabel('Frequency (Hz)')\n",
    "ax1.set_title('Power')\n",
    "\n",
    "# log10 freq x log10 pow\n",
    "log10Freq = np.log10(fSpec)\n",
    "ax2.plot(log10Freq,avgPowDist)\n",
    "ax2.set_xlabel('log10(Frequency (Hz))')\n",
    "ax2.set_title('Log10 freq')\n",
    "\n",
    "# antilog to check\n",
    "antiLog = 10**log10Freq\n",
    "ax3.plot(antiLog,avgPowDist)\n",
    "ax3.set_title('AntiLog back')\n",
    "ax3.set_xlabel('Frequency (Hz)')"
   ]
  },
  {
   "cell_type": "code",
   "execution_count": 561,
   "id": "390dcbe5-92d0-42c6-b136-70ec9fb83886",
   "metadata": {},
   "outputs": [],
   "source": [
    "logFshape = np.reshape(log10Freq,[1,len(log10Freq)])"
   ]
  },
  {
   "cell_type": "code",
   "execution_count": 573,
   "id": "201f6f12-2e7c-4350-ad98-55b6e02305a7",
   "metadata": {},
   "outputs": [],
   "source": [
    "logFshape = np.array(np.reshape(logFshape,[len(avgPowDist),1]))"
   ]
  },
  {
   "cell_type": "code",
   "execution_count": 568,
   "id": "613f7184-2488-470c-bdcc-4b6aea3f4456",
   "metadata": {},
   "outputs": [],
   "source": [
    "avgPowRe = np.array(np.reshape(avgPowDist,[len(avgPowDist),1]))"
   ]
  },
  {
   "cell_type": "code",
   "execution_count": 575,
   "id": "8c236b11-6856-4271-b86a-a8be17ca4fbb",
   "metadata": {},
   "outputs": [],
   "source": [
    "from sklearn.linear_model import LinearRegression\n",
    "from sklearn.model_selection import train_test_split\n",
    "\n",
    "#X_train, X_test, y_train, y_test = train_test_split(X, y, random_state=42)\n",
    "lr = LinearRegression().fit(logFshape,avgPowRe)"
   ]
  },
  {
   "cell_type": "code",
   "execution_count": 576,
   "id": "13a0d771-560a-4ea3-b820-df88a3376cd7",
   "metadata": {},
   "outputs": [
    {
     "name": "stdout",
     "output_type": "stream",
     "text": [
      "lr.coef_: [[-1.43600825]]\n",
      "lr.intercept_: [4.41173029]\n"
     ]
    }
   ],
   "source": [
    "print(\"lr.coef_:\", lr.coef_)\n",
    "print(\"lr.intercept_:\", lr.intercept_)"
   ]
  },
  {
   "cell_type": "code",
   "execution_count": 579,
   "id": "a0b4d63a-190a-457d-b8b8-3c14d8395720",
   "metadata": {},
   "outputs": [
    {
     "data": {
      "text/plain": [
       "array([1.9945371])"
      ]
     },
     "execution_count": 579,
     "metadata": {},
     "output_type": "execute_result"
    }
   ],
   "source": [
    "max(logFshape)"
   ]
  },
  {
   "cell_type": "code",
   "execution_count": 592,
   "id": "9cbd2ad0-d62f-4000-a428-8aec0cf8f3bb",
   "metadata": {},
   "outputs": [
    {
     "data": {
      "text/plain": [
       "[<matplotlib.lines.Line2D at 0x7f24741d5090>]"
      ]
     },
     "execution_count": 592,
     "metadata": {},
     "output_type": "execute_result"
    },
    {
     "data": {
      "image/png": "[encoded data removed]",
      "text/plain": [
       "<Figure size 432x288 with 1 Axes>"
      ]
     },
     "metadata": {
      "needs_background": "light"
     },
     "output_type": "display_data"
    }
   ],
   "source": [
    "line = np.linspace(min(logFshape), max(logFshape), len(logFshape)).reshape(-1, 1)\n",
    "\n",
    "plt.plot(log10Freq,avgPowDist)\n",
    "plt.xlabel('log10(Frequency (Hz))')\n",
    "plt.title('Log10 freq')\n",
    "plt.plot(line, lr.predict(line))"
   ]
  },
  {
   "cell_type": "code",
   "execution_count": 586,
   "id": "46be7d5a-53e4-4634-a6c8-efca539d8c8e",
   "metadata": {},
   "outputs": [],
   "source": [
    "# get equation of line, then antilog back to normal spectra for a \"baseline\"\n"
   ]
  },
  {
   "cell_type": "code",
   "execution_count": 593,
   "id": "f726de41-2fd3-4568-94f4-029794b45151",
   "metadata": {},
   "outputs": [
    {
     "data": {
      "text/plain": [
       "[<matplotlib.lines.Line2D at 0x7f247407fa00>]"
      ]
     },
     "execution_count": 594,
     "metadata": {},
     "output_type": "execute_result"
    },
    {
     "data": {
      "image/png": "[encoded data removed]",
      "text/plain": [
       "<Figure size 432x288 with 1 Axes>"
      ]
     },
     "metadata": {
      "needs_background": "light"
     },
     "output_type": "display_data"
    }
   ],
   "source": [
    "plt.plot(fSpec,avgPowDist)\n",
    "plt.ylabel('Log10 power')\n",
    "plt.xlabel('Frequency (Hz)')\n",
    "plt.title('Power')\n",
    "#line = np.linspace(min(fSpec), max(fSpec), len(fSpec)).reshape(-1, 1)\n",
    "#lrLineAn = 10**(lr.predict(line))\n",
    "#plt.plot(line, lrLineAn)"
   ]
  },
  {
   "cell_type": "code",
   "execution_count": null,
   "id": "2961fe7a-90cf-4264-8950-1cecaff4e208",
   "metadata": {},
   "outputs": [],
   "source": []
  }
 ],
 "metadata": {
  "kernelspec": {
   "display_name": "Python 3 (ipykernel)",
   "language": "python",
   "name": "python3"
  },
  "language_info": {
   "codemirror_mode": {
    "name": "ipython",
    "version": 3
   },
   "file_extension": ".py",
   "mimetype": "text/x-python",
   "name": "python",
   "nbconvert_exporter": "python",
   "pygments_lexer": "ipython3",
   "version": "3.10.8"
  }
 },
 "nbformat": 4,
 "nbformat_minor": 5
}
