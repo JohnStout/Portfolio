{
 "cells": [
  {
   "cell_type": "markdown",
   "id": "ed415cff-aa6a-43ab-ad29-c2c8c63579cc",
   "metadata": {},
   "source": [
    "Get data streaming\n"
   ]
  },
  {
   "cell_type": "code",
   "execution_count": 37,
   "id": "02f12853-83c4-440b-82ce-e372100955ab",
   "metadata": {},
   "outputs": [
    {
     "ename": "NameError",
     "evalue": "name 'get' is not defined",
     "output_type": "error",
     "traceback": [
      "\u001b[1;31m---------------------------------------------------------------------------\u001b[0m",
      "\u001b[1;31mNameError\u001b[0m                                 Traceback (most recent call last)",
      "Input \u001b[1;32mIn [37]\u001b[0m, in \u001b[0;36m<cell line: 1>\u001b[1;34m()\u001b[0m\n\u001b[1;32m----> 1\u001b[0m \u001b[43mget\u001b[49m(\u001b[38;5;124m\"\u001b[39m\u001b[38;5;124mhttps://dandiarchive.org/dandiset/000059/0.210812.1514/files?location=\u001b[39m\u001b[38;5;124m\"\u001b[39m)\n",
      "\u001b[1;31mNameError\u001b[0m: name 'get' is not defined"
     ]
    }
   ],
   "source": [
    "get(\"https://dandiarchive.org/dandiset/000059/0.210812.1514/files?location=\")"
   ]
  },
  {
   "cell_type": "code",
   "execution_count": 47,
   "id": "767816b7-a6a7-4658-9c07-ae90f02c9c59",
   "metadata": {},
   "outputs": [
    {
     "ename": "AttributeError",
     "evalue": "'DandiAPIClient' object has no attribute 'get_assets_with_path_prefix'",
     "output_type": "error",
     "traceback": [
      "\u001b[1;31m---------------------------------------------------------------------------\u001b[0m",
      "\u001b[1;31mAttributeError\u001b[0m                            Traceback (most recent call last)",
      "Input \u001b[1;32mIn [47]\u001b[0m, in \u001b[0;36m<cell line: 8>\u001b[1;34m()\u001b[0m\n\u001b[0;32m      6\u001b[0m dandiset_id \u001b[38;5;241m=\u001b[39m \u001b[38;5;124m'\u001b[39m\u001b[38;5;124m000006\u001b[39m\u001b[38;5;124m'\u001b[39m  \u001b[38;5;66;03m# ephys dataset from the Svoboda Lab\u001b[39;00m\n\u001b[0;32m      8\u001b[0m \u001b[38;5;28;01mwith\u001b[39;00m DandiAPIClient() \u001b[38;5;28;01mas\u001b[39;00m client:\n\u001b[0;32m      9\u001b[0m     \u001b[38;5;66;03m#asset = client.get_assets(\"05d8f771-11c6-4f57-842f-c801444bb182\")\u001b[39;00m\n\u001b[0;32m     10\u001b[0m     \u001b[38;5;66;03m#asset = client.get_dandiset(dandiset_id,'draft').get_assets()\u001b[39;00m\n\u001b[1;32m---> 11\u001b[0m     help([\u001b[43mclient\u001b[49m\u001b[38;5;241;43m.\u001b[39;49m\u001b[43mget_assets_with_path_prefix\u001b[49m])\n",
      "\u001b[1;31mAttributeError\u001b[0m: 'DandiAPIClient' object has no attribute 'get_assets_with_path_prefix'"
     ]
    }
   ],
   "source": [
    "# load in data\n",
    "from dandi.dandiapi import DandiAPIClient\n",
    "from dandi.dandiapi import RESTFullAPIClient\n",
    "\n",
    "# define dataset, then open up path to stream in names of files\n",
    "dandiset_id = '000006'  # ephys dataset from the Svoboda Lab\n",
    "\n",
    "with DandiAPIClient() as client:\n",
    "    #asset = client.get_assets(\"05d8f771-11c6-4f57-842f-c801444bb182\")\n",
    "    #asset = client.get_dandiset(dandiset_id,'draft').get_assets()\n",
    "    #help([client.get_assets_with_path_prefix])  \n",
    "    "
   ]
  },
  {
   "cell_type": "code",
   "execution_count": 48,
   "id": "e6fab3d9-ce29-48d1-8522-4b71d1d6848a",
   "metadata": {},
   "outputs": [
    {
     "name": "stdout",
     "output_type": "stream",
     "text": [
      "DANDI:assets/a5ad932b-b893-4522-b989-8f406d78e4e0\n",
      "DANDI:assets/d97954f2-6d80-4dda-9ecf-89c7c10fed0b\n",
      "DANDI:assets/8646c189-c6cf-44f9-95c9-a0a5c9dd0327\n",
      "DANDI:assets/6b257f72-cb25-4c63-a2ce-6ec7db3e53dd\n",
      "DANDI:assets/2d80fab6-cd64-4c10-b52e-0042b888154e\n",
      "DANDI:assets/70a9bf4d-bd06-4cc2-9482-29024c0b8c00\n",
      "DANDI:assets/6d79df54-9fc7-49fe-9d34-a0ee20d52350\n",
      "DANDI:assets/7a1b7c5d-b05f-41fa-b6e0-79b06679e198\n",
      "DANDI:assets/32cb0ae9-49fd-4bf9-b939-3960df7aeca2\n",
      "DANDI:assets/5c99c284-82e2-4d2c-a17a-630aa3f968bf\n",
      "DANDI:assets/6ef98b8a-90a3-4f0b-8f7e-2150e7946029\n",
      "DANDI:assets/c3534106-7bc6-4cec-adbe-2a7d6eb65c5c\n",
      "DANDI:assets/52910fad-83e1-43f9-9833-7bbc5b587549\n",
      "DANDI:assets/f8799776-5cac-4d9d-aaaf-14570863def0\n",
      "DANDI:assets/f7a9f2aa-1530-4847-8a95-fef46f67ea00\n",
      "DANDI:assets/0fc46ea9-d5e9-41de-8092-a5dd56f32406\n",
      "DANDI:assets/fe8b7bd4-d593-4d60-87d8-9e724092859d\n",
      "DANDI:assets/f1ebd27c-b2cb-4aba-b96c-f6a83d2e971c\n",
      "DANDI:assets/354dd414-b841-4741-a03c-d60fc4812698\n",
      "DANDI:assets/977239ac-2103-48f1-ae1a-418444bb4b91\n",
      "DANDI:assets/84c6d788-448c-4ce5-89f5-68ff850a5e47\n",
      "DANDI:assets/00745f5a-6a8f-4e25-abf7-20b2edf9346d\n",
      "DANDI:assets/1dc94b88-fe27-4ad9-8af6-96d2c3511dfd\n",
      "DANDI:assets/77942189-24c9-4bc4-92b4-0f4c80791b31\n",
      "DANDI:assets/d4266eaa-54c6-467c-8482-53578cc7e2b1\n",
      "DANDI:assets/fad41e3d-f0ba-4b0e-910b-ac25466dcdf4\n",
      "DANDI:assets/682f67f7-b2ce-45dd-bafa-bf68de8d232b\n",
      "DANDI:assets/f4a0ed2e-c294-444c-b7e5-beb0a7a298d7\n",
      "DANDI:assets/dc3f8159-9717-42de-971b-2b8d76143edf\n",
      "DANDI:assets/e949d5c5-ed3d-4e17-9adf-a7facab36870\n",
      "DANDI:assets/378f9a76-d509-4fb1-a18a-28804ca05d88\n",
      "DANDI:assets/f053f295-69d3-49e2-936b-427d8498a292\n",
      "DANDI:assets/755505d0-d8d1-46af-bc3f-4aa494060c1a\n",
      "DANDI:assets/5e8bb56f-d8c9-4915-a17e-873a75689661\n",
      "DANDI:assets/8fb448ba-5c8e-4218-92e5-8e614f57a904\n",
      "DANDI:assets/eef0dd02-2836-4410-acd0-5e27ac28681a\n",
      "DANDI:assets/84dd49ff-2e80-4c33-8b04-1035462330c2\n",
      "DANDI:assets/d36003a1-053c-41e2-92ac-cd60e6c5d357\n",
      "DANDI:assets/703ed290-3ba8-40cb-a8e0-abfc3a2af8b6\n",
      "DANDI:assets/ece71e54-6c5f-4e4f-9d9c-9e08296daa20\n",
      "DANDI:assets/7c433c77-a6b6-4a7f-9e21-8d318764406e\n",
      "DANDI:assets/177e7b0e-9db4-4ae5-8c80-615b6cc22519\n",
      "DANDI:assets/bf3d0fd6-adf4-4003-b214-038440189d05\n",
      "DANDI:assets/e64447a0-a86d-49f1-af71-81a074d28a42\n",
      "DANDI:assets/12dbd598-857b-4202-922f-abdd39b0a6bf\n",
      "DANDI:assets/cd3e2eee-115c-4b72-82af-f56b522dd5c8\n",
      "DANDI:assets/2b280e13-1ba9-4efa-b4f8-7b52b5e3c93d\n",
      "DANDI:assets/2e90fae4-3285-4a4d-883e-a9b9cdb3a461\n",
      "DANDI:assets/878bd45e-8cce-4325-a6b1-f30a856b2f79\n",
      "DANDI:assets/f1b6ed8f-1e14-44fa-b4ee-240d0efe3759\n",
      "DANDI:assets/fdf4e03d-a1bf-4cc6-84a2-2c273b2d2007\n",
      "DANDI:assets/d6c9a85f-22d3-4d1c-bb7a-c5fd597fb2a9\n",
      "DANDI:assets/fbfb9607-2f1f-4f50-b518-8c85f22e5541\n"
     ]
    }
   ],
   "source": [
    "for file in client.get_dandiset(dandiset_id,'draft').get_assets():\n",
    "    print(file)\n",
    "    \n",
    "#s3_url = asset.get_content_url(follow_redirects=1, strip_query=True)\n",
    "\n",
    "#print(asset)\n",
    "#\"sub-MS10/sub-MS10_ses-Peter-MS10-170314-163038_behavior+ecephys.nwb\""
   ]
  },
  {
   "cell_type": "code",
   "execution_count": 60,
   "id": "98f33a73-426a-4c0f-8a89-a816ac8e08f0",
   "metadata": {},
   "outputs": [
    {
     "data": {
      "text/plain": [
       "<generator object DandiAPIClient.get_dandisets at 0x0000027595E61430>"
      ]
     },
     "execution_count": 60,
     "metadata": {},
     "output_type": "execute_result"
    }
   ],
   "source": [
    "client.get_dandisets()"
   ]
  },
  {
   "cell_type": "code",
   "execution_count": 59,
   "id": "216735cc-dead-4138-9417-126511a273ad",
   "metadata": {},
   "outputs": [
    {
     "name": "stderr",
     "output_type": "stream",
     "text": [
      "Error 404 while sending GET request to https://api.dandiarchive.org/api/000059/sub-MS10/: \n",
      "<!doctype html>\n",
      "<html lang=\"en\">\n",
      "<head>\n",
      "  <title>Not Found</title>\n",
      "</head>\n",
      "<body>\n",
      "  <h1>Not Found</h1><p>The requested resource was not found on this server.</p>\n",
      "</body>\n",
      "</html>\n",
      "\n"
     ]
    },
    {
     "ename": "HTTP404Error",
     "evalue": "Error 404 while sending GET request to https://api.dandiarchive.org/api/000059/sub-MS10/: \n<!doctype html>\n<html lang=\"en\">\n<head>\n  <title>Not Found</title>\n</head>\n<body>\n  <h1>Not Found</h1><p>The requested resource was not found on this server.</p>\n</body>\n</html>\n",
     "output_type": "error",
     "traceback": [
      "\u001b[1;31m---------------------------------------------------------------------------\u001b[0m",
      "\u001b[1;31mHTTP404Error\u001b[0m                              Traceback (most recent call last)",
      "Input \u001b[1;32mIn [59]\u001b[0m, in \u001b[0;36m<cell line: 1>\u001b[1;34m()\u001b[0m\n\u001b[1;32m----> 1\u001b[0m resp \u001b[38;5;241m=\u001b[39m \u001b[43mclient\u001b[49m\u001b[38;5;241;43m.\u001b[39;49m\u001b[43mget\u001b[49m\u001b[43m(\u001b[49m\u001b[38;5;124;43m'\u001b[39;49m\u001b[38;5;124;43m000059/sub-MS10/\u001b[39;49m\u001b[38;5;124;43m'\u001b[39;49m\u001b[43m,\u001b[49m\u001b[43m \u001b[49m\u001b[43mjson_resp\u001b[49m\u001b[38;5;241;43m=\u001b[39;49m\u001b[38;5;28;43;01mFalse\u001b[39;49;00m\u001b[43m)\u001b[49m\n",
      "File \u001b[1;32m~\\anaconda3\\lib\\site-packages\\dandi\\dandiapi.py:291\u001b[0m, in \u001b[0;36mRESTFullAPIClient.get\u001b[1;34m(self, path, **kwargs)\u001b[0m\n\u001b[0;32m    287\u001b[0m \u001b[38;5;28;01mdef\u001b[39;00m \u001b[38;5;21mget\u001b[39m(\u001b[38;5;28mself\u001b[39m, path: \u001b[38;5;28mstr\u001b[39m, \u001b[38;5;241m*\u001b[39m\u001b[38;5;241m*\u001b[39mkwargs: Any) \u001b[38;5;241m-\u001b[39m\u001b[38;5;241m>\u001b[39m Any:\n\u001b[0;32m    288\u001b[0m     \u001b[38;5;124;03m\"\"\"\u001b[39;00m\n\u001b[0;32m    289\u001b[0m \u001b[38;5;124;03m    Convenience method to call `request()` with the 'GET' HTTP method.\u001b[39;00m\n\u001b[0;32m    290\u001b[0m \u001b[38;5;124;03m    \"\"\"\u001b[39;00m\n\u001b[1;32m--> 291\u001b[0m     \u001b[38;5;28;01mreturn\u001b[39;00m \u001b[38;5;28mself\u001b[39m\u001b[38;5;241m.\u001b[39mrequest(\u001b[38;5;124m\"\u001b[39m\u001b[38;5;124mGET\u001b[39m\u001b[38;5;124m\"\u001b[39m, path, \u001b[38;5;241m*\u001b[39m\u001b[38;5;241m*\u001b[39mkwargs)\n",
      "File \u001b[1;32m~\\anaconda3\\lib\\site-packages\\dandi\\dandiapi.py:261\u001b[0m, in \u001b[0;36mRESTFullAPIClient.request\u001b[1;34m(self, method, path, params, data, files, json, headers, json_resp, retry_statuses, retry_if, **kwargs)\u001b[0m\n\u001b[0;32m    259\u001b[0m     msg \u001b[38;5;241m+\u001b[39m\u001b[38;5;241m=\u001b[39m \u001b[38;5;124mf\u001b[39m\u001b[38;5;124m\"\u001b[39m\u001b[38;5;124m: \u001b[39m\u001b[38;5;132;01m{\u001b[39;00mresult\u001b[38;5;241m.\u001b[39mtext[:\u001b[38;5;241m1024\u001b[39m]\u001b[38;5;132;01m}\u001b[39;00m\u001b[38;5;124m... [\u001b[39m\u001b[38;5;132;01m{\u001b[39;00m\u001b[38;5;28mlen\u001b[39m(result\u001b[38;5;241m.\u001b[39mtext)\u001b[38;5;132;01m}\u001b[39;00m\u001b[38;5;124m-char response truncated]\u001b[39m\u001b[38;5;124m\"\u001b[39m\n\u001b[0;32m    260\u001b[0m \u001b[38;5;28;01mif\u001b[39;00m result\u001b[38;5;241m.\u001b[39mstatus_code \u001b[38;5;241m==\u001b[39m \u001b[38;5;241m404\u001b[39m:\n\u001b[1;32m--> 261\u001b[0m     \u001b[38;5;28;01mraise\u001b[39;00m HTTP404Error(msg, response\u001b[38;5;241m=\u001b[39mresult)\n\u001b[0;32m    262\u001b[0m \u001b[38;5;28;01melse\u001b[39;00m:\n\u001b[0;32m    263\u001b[0m     \u001b[38;5;28;01mraise\u001b[39;00m requests\u001b[38;5;241m.\u001b[39mHTTPError(msg, response\u001b[38;5;241m=\u001b[39mresult)\n",
      "\u001b[1;31mHTTP404Error\u001b[0m: Error 404 while sending GET request to https://api.dandiarchive.org/api/000059/sub-MS10/: \n<!doctype html>\n<html lang=\"en\">\n<head>\n  <title>Not Found</title>\n</head>\n<body>\n  <h1>Not Found</h1><p>The requested resource was not found on this server.</p>\n</body>\n</html>\n"
     ]
    }
   ],
   "source": [
    "resp = client.get('000059/sub-MS10/', json_resp=False)\n",
    "#resp = client.get('000059/sub-MS10')\n",
    "#print(resp.content)  # Raw binary content\n",
    "#print(resp.headers)  # Dict of headers\n"
   ]
  },
  {
   "cell_type": "code",
   "execution_count": 55,
   "id": "4ff58138-1bde-43c1-a81f-7b7f49517f0c",
   "metadata": {},
   "outputs": [
    {
     "name": "stdout",
     "output_type": "stream",
     "text": [
      "<generator object RemoteDandiset.get_assets at 0x00000275966107B0>\n"
     ]
    },
    {
     "name": "stderr",
     "output_type": "stream",
     "text": [
      "Error 400 while sending GET request to https://api.dandiarchive.org/api/dandisets/000006/versions/draft/assets/: {\"order\":[\"Select a valid choice. sub-anm372795 is not one of the available choices.\"]}\n"
     ]
    },
    {
     "ename": "HTTPError",
     "evalue": "Error 400 while sending GET request to https://api.dandiarchive.org/api/dandisets/000006/versions/draft/assets/: {\"order\":[\"Select a valid choice. sub-anm372795 is not one of the available choices.\"]}",
     "output_type": "error",
     "traceback": [
      "\u001b[1;31m---------------------------------------------------------------------------\u001b[0m",
      "\u001b[1;31mHTTPError\u001b[0m                                 Traceback (most recent call last)",
      "Input \u001b[1;32mIn [55]\u001b[0m, in \u001b[0;36m<cell line: 8>\u001b[1;34m()\u001b[0m\n\u001b[0;32m      6\u001b[0m     \u001b[38;5;66;03m#s3_url = asset.get_content_url(follow_redirects=1, strip_query=True)\u001b[39;00m\n\u001b[0;32m      7\u001b[0m \u001b[38;5;28mprint\u001b[39m(asset)\n\u001b[1;32m----> 8\u001b[0m \u001b[38;5;28;01mfor\u001b[39;00m file \u001b[38;5;129;01min\u001b[39;00m asset:\n\u001b[0;32m      9\u001b[0m     \u001b[38;5;28mprint\u001b[39m(file)\n",
      "File \u001b[1;32m~\\anaconda3\\lib\\site-packages\\dandi\\dandiapi.py:985\u001b[0m, in \u001b[0;36mRemoteDandiset.get_assets\u001b[1;34m(self, order)\u001b[0m\n\u001b[0;32m    976\u001b[0m \u001b[38;5;124;03m\"\"\"\u001b[39;00m\n\u001b[0;32m    977\u001b[0m \u001b[38;5;124;03mReturns an iterator of all assets in this version of the Dandiset.\u001b[39;00m\n\u001b[0;32m    978\u001b[0m \n\u001b[1;32m   (...)\u001b[0m\n\u001b[0;32m    982\u001b[0m \u001b[38;5;124;03mfield name to reverse the sort order.\u001b[39;00m\n\u001b[0;32m    983\u001b[0m \u001b[38;5;124;03m\"\"\"\u001b[39;00m\n\u001b[0;32m    984\u001b[0m \u001b[38;5;28;01mtry\u001b[39;00m:\n\u001b[1;32m--> 985\u001b[0m     \u001b[38;5;28;01mfor\u001b[39;00m a \u001b[38;5;129;01min\u001b[39;00m \u001b[38;5;28mself\u001b[39m\u001b[38;5;241m.\u001b[39mclient\u001b[38;5;241m.\u001b[39mpaginate(\n\u001b[0;32m    986\u001b[0m         \u001b[38;5;124mf\u001b[39m\u001b[38;5;124m\"\u001b[39m\u001b[38;5;132;01m{\u001b[39;00m\u001b[38;5;28mself\u001b[39m\u001b[38;5;241m.\u001b[39mversion_api_path\u001b[38;5;132;01m}\u001b[39;00m\u001b[38;5;124massets/\u001b[39m\u001b[38;5;124m\"\u001b[39m, params\u001b[38;5;241m=\u001b[39m{\u001b[38;5;124m\"\u001b[39m\u001b[38;5;124morder\u001b[39m\u001b[38;5;124m\"\u001b[39m: order}\n\u001b[0;32m    987\u001b[0m     ):\n\u001b[0;32m    988\u001b[0m         \u001b[38;5;28;01myield\u001b[39;00m RemoteAsset\u001b[38;5;241m.\u001b[39mfrom_data(\u001b[38;5;28mself\u001b[39m, a)\n\u001b[0;32m    989\u001b[0m \u001b[38;5;28;01mexcept\u001b[39;00m HTTP404Error:\n",
      "File \u001b[1;32m~\\anaconda3\\lib\\site-packages\\dandi\\dandiapi.py:345\u001b[0m, in \u001b[0;36mRESTFullAPIClient.paginate\u001b[1;34m(self, path, page_size, params)\u001b[0m\n\u001b[0;32m    342\u001b[0m         params \u001b[38;5;241m=\u001b[39m {}\n\u001b[0;32m    343\u001b[0m     params[\u001b[38;5;124m\"\u001b[39m\u001b[38;5;124mpage_size\u001b[39m\u001b[38;5;124m\"\u001b[39m] \u001b[38;5;241m=\u001b[39m page_size\n\u001b[1;32m--> 345\u001b[0m resp \u001b[38;5;241m=\u001b[39m \u001b[38;5;28;43mself\u001b[39;49m\u001b[38;5;241;43m.\u001b[39;49m\u001b[43mget\u001b[49m\u001b[43m(\u001b[49m\u001b[43mpath\u001b[49m\u001b[43m,\u001b[49m\u001b[43m \u001b[49m\u001b[43mparams\u001b[49m\u001b[38;5;241;43m=\u001b[39;49m\u001b[43mparams\u001b[49m\u001b[43m,\u001b[49m\u001b[43m \u001b[49m\u001b[43mjson_resp\u001b[49m\u001b[38;5;241;43m=\u001b[39;49m\u001b[38;5;28;43;01mFalse\u001b[39;49;00m\u001b[43m)\u001b[49m\n\u001b[0;32m    346\u001b[0m r \u001b[38;5;241m=\u001b[39m resp\u001b[38;5;241m.\u001b[39mjson()\n\u001b[0;32m    347\u001b[0m \u001b[38;5;28;01mif\u001b[39;00m r[\u001b[38;5;124m\"\u001b[39m\u001b[38;5;124mnext\u001b[39m\u001b[38;5;124m\"\u001b[39m] \u001b[38;5;129;01mis\u001b[39;00m \u001b[38;5;129;01mnot\u001b[39;00m \u001b[38;5;28;01mNone\u001b[39;00m:\n",
      "File \u001b[1;32m~\\anaconda3\\lib\\site-packages\\dandi\\dandiapi.py:291\u001b[0m, in \u001b[0;36mRESTFullAPIClient.get\u001b[1;34m(self, path, **kwargs)\u001b[0m\n\u001b[0;32m    287\u001b[0m \u001b[38;5;28;01mdef\u001b[39;00m \u001b[38;5;21mget\u001b[39m(\u001b[38;5;28mself\u001b[39m, path: \u001b[38;5;28mstr\u001b[39m, \u001b[38;5;241m*\u001b[39m\u001b[38;5;241m*\u001b[39mkwargs: Any) \u001b[38;5;241m-\u001b[39m\u001b[38;5;241m>\u001b[39m Any:\n\u001b[0;32m    288\u001b[0m     \u001b[38;5;124;03m\"\"\"\u001b[39;00m\n\u001b[0;32m    289\u001b[0m \u001b[38;5;124;03m    Convenience method to call `request()` with the 'GET' HTTP method.\u001b[39;00m\n\u001b[0;32m    290\u001b[0m \u001b[38;5;124;03m    \"\"\"\u001b[39;00m\n\u001b[1;32m--> 291\u001b[0m     \u001b[38;5;28;01mreturn\u001b[39;00m \u001b[38;5;28mself\u001b[39m\u001b[38;5;241m.\u001b[39mrequest(\u001b[38;5;124m\"\u001b[39m\u001b[38;5;124mGET\u001b[39m\u001b[38;5;124m\"\u001b[39m, path, \u001b[38;5;241m*\u001b[39m\u001b[38;5;241m*\u001b[39mkwargs)\n",
      "File \u001b[1;32m~\\anaconda3\\lib\\site-packages\\dandi\\dandiapi.py:263\u001b[0m, in \u001b[0;36mRESTFullAPIClient.request\u001b[1;34m(self, method, path, params, data, files, json, headers, json_resp, retry_statuses, retry_if, **kwargs)\u001b[0m\n\u001b[0;32m    261\u001b[0m         \u001b[38;5;28;01mraise\u001b[39;00m HTTP404Error(msg, response\u001b[38;5;241m=\u001b[39mresult)\n\u001b[0;32m    262\u001b[0m     \u001b[38;5;28;01melse\u001b[39;00m:\n\u001b[1;32m--> 263\u001b[0m         \u001b[38;5;28;01mraise\u001b[39;00m requests\u001b[38;5;241m.\u001b[39mHTTPError(msg, response\u001b[38;5;241m=\u001b[39mresult)\n\u001b[0;32m    265\u001b[0m \u001b[38;5;28;01mif\u001b[39;00m json_resp:\n\u001b[0;32m    266\u001b[0m     \u001b[38;5;28;01mif\u001b[39;00m result\u001b[38;5;241m.\u001b[39mtext\u001b[38;5;241m.\u001b[39mstrip():\n",
      "\u001b[1;31mHTTPError\u001b[0m: Error 400 while sending GET request to https://api.dandiarchive.org/api/dandisets/000006/versions/draft/assets/: {\"order\":[\"Select a valid choice. sub-anm372795 is not one of the available choices.\"]}"
     ]
    }
   ],
   "source": [
    "dandiset_id = '000006'  # ephys dataset from the Svoboda Lab\n",
    "#filepath = 'sub-anm372795/sub-anm372795_ses-20170718.nwb'  # 450 kB file\n",
    "filepath = 'sub-anm372795'  # 450 kB file\n",
    "with DandiAPIClient() as client:\n",
    "    asset = client.get_dandiset(dandiset_id, 'draft').get_assets(filepath)\n",
    "    #s3_url = asset.get_content_url(follow_redirects=1, strip_query=True)\n",
    "    \n",
    "print(asset)\n",
    "for file in asset:\n",
    "    print(file) \n",
    "    \n",
    "\n",
    "    "
   ]
  },
  {
   "cell_type": "code",
   "execution_count": 7,
   "id": "ab869934-787b-4233-b469-41fbb5b90db9",
   "metadata": {},
   "outputs": [],
   "source": []
  },
  {
   "cell_type": "code",
   "execution_count": null,
   "id": "23a0fa29-7b3e-46c9-b1ac-90d96732ed19",
   "metadata": {},
   "outputs": [],
   "source": []
  }
 ],
 "metadata": {
  "kernelspec": {
   "display_name": "Python 3 (ipykernel)",
   "language": "python",
   "name": "python3"
  },
  "language_info": {
   "codemirror_mode": {
    "name": "ipython",
    "version": 3
   },
   "file_extension": ".py",
   "mimetype": "text/x-python",
   "name": "python",
   "nbconvert_exporter": "python",
   "pygments_lexer": "ipython3",
   "version": "3.9.12"
  }
 },
 "nbformat": 4,
 "nbformat_minor": 5
}
