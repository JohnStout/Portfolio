{
 "cells": [
  {
   "cell_type": "markdown",
   "id": "4bdd2ac6-6bc9-4710-b22b-fa6e71ba94fc",
   "metadata": {},
   "source": [
    "#### Potential uses\n",
    "1. run pilot\n",
    "2. determine if result is present in other lab/species\n",
    "3. implement new tool you developed on data\n",
    "4. explore follow up questions\n",
    "5. combine across various types of data - aggregative analysis\n",
    "\n",
    "-----\n",
    "RFP*"
   ]
  },
  {
   "cell_type": "markdown",
   "id": "dcc50557-8552-4f3f-b08d-3e79badee065",
   "metadata": {},
   "source": [
    "----"
   ]
  },
  {
   "cell_type": "markdown",
   "id": "9a4444fe-4e40-46b7-964c-2a132ed8bc4a",
   "metadata": {},
   "source": [
    "Some ideas:\n",
    "1. Using tonegawa data\n",
    "2. Use 30k unit data for functional connectivity analysis\n",
    "3. Use 30k unit data to understand how zona incerta and its higher order thalamic nuclei interact"
   ]
  },
  {
   "cell_type": "markdown",
   "id": "db997eb2-78e0-4996-b41c-3754aa814687",
   "metadata": {},
   "source": [
    "FOOF python package"
   ]
  }
 ],
 "metadata": {
  "kernelspec": {
   "display_name": "Python 3 (ipykernel)",
   "language": "python",
   "name": "python3"
  },
  "language_info": {
   "codemirror_mode": {
    "name": "ipython",
    "version": 3
   },
   "file_extension": ".py",
   "mimetype": "text/x-python",
   "name": "python",
   "nbconvert_exporter": "python",
   "pygments_lexer": "ipython3",
   "version": "3.9.12"
  }
 },
 "nbformat": 4,
 "nbformat_minor": 5
}
