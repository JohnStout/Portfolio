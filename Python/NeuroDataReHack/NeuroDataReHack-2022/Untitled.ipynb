{
 "cells": [
  {
   "cell_type": "markdown",
   "id": "a54ca606-03fb-4228-8e29-8c9706c6bdc3",
   "metadata": {},
   "source": [
    "## NOTES"
   ]
  },
  {
   "cell_type": "markdown",
   "id": "484c17de-ae35-4bc3-8d9d-f3e3751536f8",
   "metadata": {},
   "source": [
    "h5py"
   ]
  }
 ],
 "metadata": {
  "kernelspec": {
   "display_name": "Python 3 (ipykernel)",
   "language": "python",
   "name": "python3"
  },
  "language_info": {
   "codemirror_mode": {
    "name": "ipython",
    "version": 3
   },
   "file_extension": ".py",
   "mimetype": "text/x-python",
   "name": "python",
   "nbconvert_exporter": "python",
   "pygments_lexer": "ipython3",
   "version": "3.9.12"
  }
 },
 "nbformat": 4,
 "nbformat_minor": 5
}
