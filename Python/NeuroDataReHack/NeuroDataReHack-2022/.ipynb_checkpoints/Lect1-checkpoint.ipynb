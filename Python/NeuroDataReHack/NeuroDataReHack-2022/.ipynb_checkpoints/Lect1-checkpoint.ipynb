{
 "cells": [
  {
   "cell_type": "markdown",
   "id": "4bdd2ac6-6bc9-4710-b22b-fa6e71ba94fc",
   "metadata": {},
   "source": [
    "#### Potential uses\n",
    "1. run pilot\n",
    "2. determine if result is present in other lab/species\n",
    "3. implement new tool you developed on data\n",
    "4. explore follow up questions\n",
    "5. combine across various types of data - aggregative analysis\n",
    "\n",
    "-----\n",
    "RFP**"
   ]
  },
  {
   "cell_type": "code",
   "execution_count": null,
   "id": "73c0429f-2f31-4cef-8e60-b4c04aadc51b",
   "metadata": {},
   "outputs": [],
   "source": []
  }
 ],
 "metadata": {
  "kernelspec": {
   "display_name": "Python 3 (ipykernel)",
   "language": "python",
   "name": "python3"
  },
  "language_info": {
   "codemirror_mode": {
    "name": "ipython",
    "version": 3
   },
   "file_extension": ".py",
   "mimetype": "text/x-python",
   "name": "python",
   "nbconvert_exporter": "python",
   "pygments_lexer": "ipython3",
   "version": "3.9.12"
  }
 },
 "nbformat": 4,
 "nbformat_minor": 5
}
