{
 "cells": [
  {
   "cell_type": "code",
   "execution_count": 81,
   "id": "4d5d2295-1b12-40ae-9ffb-dff9216023d7",
   "metadata": {},
   "outputs": [
    {
     "name": "stdout",
     "output_type": "stream",
     "text": [
      "{'sub-FF', 'sub-EE', 'sub-GG'}\n"
     ]
    }
   ],
   "source": [
    "# import vars and dandi api\n",
    "import numpy as np\n",
    "from dandi.dandiapi import DandiAPIClient\n",
    "import os # import os\n",
    "\n",
    "# define dataset\n",
    "dandiset_id = '000067' # dataset\n",
    "\n",
    "# get dataset\n",
    "dandiset = client.get_dandiset(dandiset_id,'draft')\n",
    "\n",
    "# list splits the \"zipped\" generator file\n",
    "assets   = list(dandiset.get_assets())\n",
    "\n",
    "# list comprehension\n",
    "rats = {os.path.split(x.path)[0] for x in assets} # list comprehension, for loop, {} if unique\n",
    "\n",
    "print(rats)\n",
    "#print(assets)"
   ]
  },
  {
   "cell_type": "code",
   "execution_count": 91,
   "id": "37557b45-4216-4e54-92dd-97acc382c614",
   "metadata": {},
   "outputs": [
    {
     "name": "stdout",
     "output_type": "stream",
     "text": [
      "['sub-EE/sub-EE_ses-EE-044_ecephys.nwb', 'sub-EE/sub-EE_ses-EE-043_ecephys.nwb', 'sub-EE/sub-EE_ses-EE-081_ecephys.nwb', 'sub-EE/sub-EE_ses-EE-080_ecephys.nwb', 'sub-EE/sub-EE_ses-EE-082_ecephys.nwb', 'sub-EE/sub-EE_ses-EE-083_ecephys.nwb', 'sub-EE/sub-EE_ses-EE-085_ecephys.nwb', 'sub-EE/sub-EE_ses-EE-042_ecephys.nwb', 'sub-EE/sub-EE_ses-EE-046_ecephys.nwb', 'sub-EE/sub-EE_ses-EE-086_ecephys.nwb', 'sub-EE/sub-EE_ses-EE-087_ecephys.nwb', 'sub-EE/sub-EE_ses-EE-084_ecephys.nwb', 'sub-EE/sub-EE_ses-EE-088_behavior+ecephys.nwb', 'sub-EE/sub-EE_ses-EE-089_ecephys.nwb', 'sub-EE/sub-EE_ses-EE-047_ecephys.nwb', 'sub-EE/sub-EE_ses-EE-048_ecephys.nwb', 'sub-EE/sub-EE_ses-EE-049_behavior+ecephys.nwb', 'sub-EE/sub-EE_ses-EE-050_ecephys.nwb', 'sub-EE/sub-EE_ses-EE-045_ecephys.nwb', 'sub-EE/sub-EE_ses-EE-196_behavior+ecephys.nwb', 'sub-EE/sub-EE_ses-EE-210_ecephys.nwb', 'sub-FF/sub-FF_ses-FF-167_behavior+ecephys.nwb', 'sub-FF/sub-FF_ses-FF-130_behavior+ecephys.nwb', 'sub-FF/sub-FF_ses-FF-103_behavior+ecephys.nwb', 'sub-GG/sub-GG_ses-GG-069_behavior+ecephys.nwb', 'sub-GG/sub-GG_ses-GG-063_behavior+ecephys.nwb', 'sub-GG/sub-GG_ses-GG-149_behavior+ecephys.nwb', 'sub-GG/sub-GG_ses-GG-097_behavior+ecephys.nwb']\n"
     ]
    }
   ],
   "source": [
    "# a set of sessions\n",
    "#sessions = {os.path.split(x.path) for x in assets}\n",
    "#print(sessions)\n",
    "\n",
    "# if session belongs to rat(i), then store data in dict\n",
    "\n",
    "# actually just work with sessions for now and call it a day\n",
    "sessions = [x.path for x in assets]\n",
    "print(sessions)"
   ]
  },
  {
   "cell_type": "code",
   "execution_count": 66,
   "id": "a78e4eb4-55ba-47d1-a745-f8e98bad32d5",
   "metadata": {},
   "outputs": [
    {
     "name": "stdout",
     "output_type": "stream",
     "text": [
      "sub-EE\n",
      "sub-EE\n",
      "sub-EE\n",
      "sub-EE\n",
      "sub-EE\n",
      "sub-EE\n",
      "sub-EE\n",
      "sub-EE\n",
      "sub-EE\n",
      "sub-EE\n",
      "sub-EE\n",
      "sub-EE\n",
      "sub-EE\n",
      "sub-EE\n",
      "sub-EE\n",
      "sub-EE\n",
      "sub-EE\n",
      "sub-EE\n",
      "sub-EE\n",
      "sub-EE\n",
      "sub-EE\n",
      "sub-FF\n",
      "sub-FF\n",
      "sub-FF\n",
      "sub-GG\n",
      "sub-GG\n",
      "sub-GG\n",
      "sub-GG\n",
      "['sub-EE/sub-EE_ses-EE-044_ecephys.nwb', 'sub-EE/sub-EE_ses-EE-043_ecephys.nwb', 'sub-EE/sub-EE_ses-EE-081_ecephys.nwb', 'sub-EE/sub-EE_ses-EE-080_ecephys.nwb', 'sub-EE/sub-EE_ses-EE-082_ecephys.nwb', 'sub-EE/sub-EE_ses-EE-083_ecephys.nwb', 'sub-EE/sub-EE_ses-EE-085_ecephys.nwb', 'sub-EE/sub-EE_ses-EE-042_ecephys.nwb', 'sub-EE/sub-EE_ses-EE-046_ecephys.nwb', 'sub-EE/sub-EE_ses-EE-086_ecephys.nwb', 'sub-EE/sub-EE_ses-EE-087_ecephys.nwb', 'sub-EE/sub-EE_ses-EE-084_ecephys.nwb', 'sub-EE/sub-EE_ses-EE-088_behavior+ecephys.nwb', 'sub-EE/sub-EE_ses-EE-089_ecephys.nwb', 'sub-EE/sub-EE_ses-EE-047_ecephys.nwb', 'sub-EE/sub-EE_ses-EE-048_ecephys.nwb', 'sub-EE/sub-EE_ses-EE-049_behavior+ecephys.nwb', 'sub-EE/sub-EE_ses-EE-050_ecephys.nwb', 'sub-EE/sub-EE_ses-EE-045_ecephys.nwb', 'sub-EE/sub-EE_ses-EE-196_behavior+ecephys.nwb', 'sub-EE/sub-EE_ses-EE-210_ecephys.nwb', 'sub-FF/sub-FF_ses-FF-167_behavior+ecephys.nwb', 'sub-FF/sub-FF_ses-FF-130_behavior+ecephys.nwb', 'sub-FF/sub-FF_ses-FF-103_behavior+ecephys.nwb', 'sub-GG/sub-GG_ses-GG-069_behavior+ecephys.nwb', 'sub-GG/sub-GG_ses-GG-063_behavior+ecephys.nwb', 'sub-GG/sub-GG_ses-GG-149_behavior+ecephys.nwb', 'sub-GG/sub-GG_ses-GG-097_behavior+ecephys.nwb']\n"
     ]
    }
   ],
   "source": [
    "[x.path for x in assets]\n",
    "#print(x.path)\n",
    "\n",
    "out = []\n",
    "for x in assets:\n",
    "    print(os.path.split(x.path)[0])\n",
    "    out.append(x.path) # ben\n",
    "    \n",
    "#print(out)"
   ]
  },
  {
   "cell_type": "code",
   "execution_count": 65,
   "id": "82ceab9a-9eb5-4f2a-8203-66b873a992b2",
   "metadata": {},
   "outputs": [
    {
     "name": "stdout",
     "output_type": "stream",
     "text": [
      "sub-GG_ses-GG-097_behavior+ecephys.nwb\n"
     ]
    }
   ],
   "source": [
    "[x.path for x in assets] \n",
    "\n",
    "print(os.path.split(x.path)[1])"
   ]
  },
  {
   "cell_type": "code",
   "execution_count": null,
   "id": "aa9f6821-921c-4eae-b2df-ff2a8073e280",
   "metadata": {},
   "outputs": [],
   "source": []
  },
  {
   "cell_type": "code",
   "execution_count": 39,
   "id": "ed14be3c-d924-4aec-8d57-fbb9b6415a7d",
   "metadata": {},
   "outputs": [
    {
     "name": "stdout",
     "output_type": "stream",
     "text": [
      "DANDI:assets/755505d0-d8d1-46af-bc3f-4aa494060c1a\n"
     ]
    }
   ],
   "source": [
    "from dandi.dandiapi import DandiAPIClient\n",
    "\n",
    "dandiset_id = '000006' # dataset\n",
    "session     = 'sub-anm372795' # rats (for looping) - I need a way to automatically identify this based on dandiset_id\n",
    "dataset     = '/sub-anm372795_ses-20170718.nwb' # name of dataset - I need a way to automatically identify this\n",
    "filepath    = session+dataset # path to data\n",
    "\n",
    "with DandiAPIClient() as client:\n",
    "    asset = client.get_dandiset(dandiset_id, 'draft').get_asset_by_path(filepath)\n",
    "    s3_url = asset.get_content_url(follow_redirects=1, strip_query=True)\n",
    " \n",
    "print(asset)"
   ]
  },
  {
   "cell_type": "code",
   "execution_count": null,
   "id": "e37f83ac-a567-4fc2-872b-4fbe1c672cf4",
   "metadata": {},
   "outputs": [],
   "source": []
  },
  {
   "cell_type": "code",
   "execution_count": 17,
   "id": "765d234e-d902-4faa-81e5-0f448599afb3",
   "metadata": {},
   "outputs": [
    {
     "name": "stdout",
     "output_type": "stream",
     "text": [
      "DANDI:000296/0.220805.1724\n"
     ]
    }
   ],
   "source": [
    "import json\n",
    "\n",
    "from dandi.dandiapi import DandiAPIClient\n",
    "\n",
    "with DandiAPIClient.for_dandi_instance(\"dandi\") as client:\n",
    "    for dandiset in client.get_dandisets():\n",
    "        if dandiset.most_recent_published_version is None:\n",
    "            continue\n",
    "        latest_dandiset = dandiset.for_version(dandiset.most_recent_published_version)\n",
    "    "
   ]
  },
  {
   "cell_type": "code",
   "execution_count": null,
   "id": "46499953-aeed-4bb2-8569-5464778c8e50",
   "metadata": {},
   "outputs": [],
   "source": [
    "import json\n",
    "\n",
    "from dandi.dandiapi import DandiAPIClient\n",
    "\n",
    "with DandiAPIClient.for_dandi_instance(\"dandi\") as client:\n",
    "    for dandiset in client.get_dandisets():\n",
    "        if dandiset.most_recent_published_version is None:\n",
    "            continue\n",
    "        latest_dandiset = dandiset.for_version(dandiset.most_recent_published_version)\n",
    "        \n",
    "        for asset in latest_dandiset.get_assets():\n",
    "            metadata = asset.get_metadata()\n",
    "            if any(\n",
    "                mtt is not None and \"two-photon\" in mtt.name\n",
    "                for mtt in (metadata.measurementTechnique or [])\n",
    "            ):\n",
    "                print(json.dumps(metadata.json_dict(), indent=4))\n",
    "                # Can be used to also download the asset:\n",
    "                # asset.download(pathlib.Path(dandiset.identifier, asset.path))\n",
    "                "
   ]
  },
  {
   "cell_type": "code",
   "execution_count": null,
   "id": "572916eb-bf48-49db-91eb-0a330c5a5989",
   "metadata": {},
   "outputs": [],
   "source": [
    "# my first goal is to find a way to extract filepath names iteratively"
   ]
  }
 ],
 "metadata": {
  "kernelspec": {
   "display_name": "Python 3 (ipykernel)",
   "language": "python",
   "name": "python3"
  },
  "language_info": {
   "codemirror_mode": {
    "name": "ipython",
    "version": 3
   },
   "file_extension": ".py",
   "mimetype": "text/x-python",
   "name": "python",
   "nbconvert_exporter": "python",
   "pygments_lexer": "ipython3",
   "version": "3.9.12"
  }
 },
 "nbformat": 4,
 "nbformat_minor": 5
}
