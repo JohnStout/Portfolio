{
 "cells": [
  {
   "cell_type": "markdown",
   "id": "11871668-fe87-4d89-97d4-8559a5a8d2c8",
   "metadata": {},
   "source": [
    "Load in variables and prep"
   ]
  },
  {
   "cell_type": "code",
   "execution_count": 106,
   "id": "4d5d2295-1b12-40ae-9ffb-dff9216023d7",
   "metadata": {},
   "outputs": [
    {
     "name": "stdout",
     "output_type": "stream",
     "text": [
      "['sub-EE/sub-EE_ses-EE-044_ecephys.nwb', 'sub-EE/sub-EE_ses-EE-043_ecephys.nwb', 'sub-EE/sub-EE_ses-EE-081_ecephys.nwb', 'sub-EE/sub-EE_ses-EE-080_ecephys.nwb', 'sub-EE/sub-EE_ses-EE-082_ecephys.nwb', 'sub-EE/sub-EE_ses-EE-083_ecephys.nwb', 'sub-EE/sub-EE_ses-EE-085_ecephys.nwb', 'sub-EE/sub-EE_ses-EE-042_ecephys.nwb', 'sub-EE/sub-EE_ses-EE-046_ecephys.nwb', 'sub-EE/sub-EE_ses-EE-086_ecephys.nwb', 'sub-EE/sub-EE_ses-EE-087_ecephys.nwb', 'sub-EE/sub-EE_ses-EE-084_ecephys.nwb', 'sub-EE/sub-EE_ses-EE-088_behavior+ecephys.nwb', 'sub-EE/sub-EE_ses-EE-089_ecephys.nwb', 'sub-EE/sub-EE_ses-EE-047_ecephys.nwb', 'sub-EE/sub-EE_ses-EE-048_ecephys.nwb', 'sub-EE/sub-EE_ses-EE-049_behavior+ecephys.nwb', 'sub-EE/sub-EE_ses-EE-050_ecephys.nwb', 'sub-EE/sub-EE_ses-EE-045_ecephys.nwb', 'sub-EE/sub-EE_ses-EE-196_behavior+ecephys.nwb', 'sub-EE/sub-EE_ses-EE-210_ecephys.nwb', 'sub-FF/sub-FF_ses-FF-167_behavior+ecephys.nwb', 'sub-FF/sub-FF_ses-FF-130_behavior+ecephys.nwb', 'sub-FF/sub-FF_ses-FF-103_behavior+ecephys.nwb', 'sub-GG/sub-GG_ses-GG-069_behavior+ecephys.nwb', 'sub-GG/sub-GG_ses-GG-063_behavior+ecephys.nwb', 'sub-GG/sub-GG_ses-GG-149_behavior+ecephys.nwb', 'sub-GG/sub-GG_ses-GG-097_behavior+ecephys.nwb']\n"
     ]
    }
   ],
   "source": [
    "# import vars and dandi api\n",
    "import numpy as np\n",
    "from dandi.dandiapi import DandiAPIClient\n",
    "import os # import os\n",
    "\n",
    "# define dataset\n",
    "dandiset_id = '000067' # dataset\n",
    "\n",
    "# get dataset\n",
    "dandiset = client.get_dandiset(dandiset_id,'draft')\n",
    "\n",
    "# list splits the \"zipped\" generator file\n",
    "assets   = list(dandiset.get_assets())\n",
    "\n",
    "# list comprehension\n",
    "rats = {os.path.split(x.path)[0] for x in assets} # list comprehension, for loop, {} if unique\n",
    "#print(rats)\n",
    "#print(assets)\n",
    "\n",
    "# a set of sessions\n",
    "#sessions = {os.path.split(x.path) for x in assets}\n",
    "#print(sessions)\n",
    "\n",
    "# if session belongs to rat(i), then store data in dict\n",
    "\n",
    "# actually just work with sessions for now and call it a day\n",
    "sessions = [x.path for x in assets]\n",
    "print(sessions)"
   ]
  },
  {
   "cell_type": "code",
   "execution_count": 107,
   "id": "337b6df3-df10-4107-a27e-d22732c96d8f",
   "metadata": {},
   "outputs": [
    {
     "name": "stdout",
     "output_type": "stream",
     "text": [
      "https://dandiarchive.s3.amazonaws.com/blobs/43b/f3a/43bf3a81-4a0b-433f-b471-1f10303f9d35\n"
     ]
    }
   ],
   "source": [
    "#for sessi in len(sessions):\n",
    "sessi = 1\n",
    "filepath = sessions[0]\n",
    "\n",
    "with DandiAPIClient() as client:\n",
    "    dataAsset = client.get_dandiset(dandiset_id,'draft').get_asset_by_path(filepath)\n",
    "    s3_url    = asset.get_content_url(follow_redirects=1, strip_query=True)\n",
    "\n",
    "# now we have the s3 url for the first dataset to work with\n",
    "print(s3_url)"
   ]
  },
  {
   "cell_type": "markdown",
   "id": "3e96d423-4bb0-4869-bfef-6bb04236a310",
   "metadata": {},
   "source": [
    "### Define some stuff prior to analyzing"
   ]
  },
  {
   "cell_type": "code",
   "execution_count": 108,
   "id": "f3d8a197-cb33-413d-bceb-ff0d32b99ab0",
   "metadata": {},
   "outputs": [
    {
     "ename": "ModuleNotFoundError",
     "evalue": "No module named 'nwbwidgets'",
     "output_type": "error",
     "traceback": [
      "\u001b[1;31m---------------------------------------------------------------------------\u001b[0m",
      "\u001b[1;31mModuleNotFoundError\u001b[0m                       Traceback (most recent call last)",
      "Input \u001b[1;32mIn [108]\u001b[0m, in \u001b[0;36m<cell line: 3>\u001b[1;34m()\u001b[0m\n\u001b[0;32m      1\u001b[0m \u001b[38;5;28;01mimport\u001b[39;00m \u001b[38;5;21;01mpynwb\u001b[39;00m\n\u001b[0;32m      2\u001b[0m \u001b[38;5;28;01mfrom\u001b[39;00m \u001b[38;5;21;01mpynwb\u001b[39;00m \u001b[38;5;28;01mimport\u001b[39;00m NWBHDF5IO\n\u001b[1;32m----> 3\u001b[0m \u001b[38;5;28;01mfrom\u001b[39;00m \u001b[38;5;21;01mnwbwidgets\u001b[39;00m \u001b[38;5;28;01mimport\u001b[39;00m nwb2widget\n\u001b[0;32m      4\u001b[0m \u001b[38;5;28;01mimport\u001b[39;00m \u001b[38;5;21;01mrequests\u001b[39;00m\n\u001b[0;32m      6\u001b[0m \u001b[38;5;28;01mdef\u001b[39;00m \u001b[38;5;21m_search_assets\u001b[39m(url, filepath):\n",
      "\u001b[1;31mModuleNotFoundError\u001b[0m: No module named 'nwbwidgets'"
     ]
    }
   ],
   "source": [
    "import pynwb\n",
    "from pynwb import NWBHDF5IO\n",
    "from nwbwidgets import nwb2widget\n",
    "import requests\n",
    "\n",
    "def _search_assets(url, filepath):\n",
    "    response = requests.request(\"GET\", url, headers={\"Accept\": \"application/json\"}).json() \n",
    "    \n",
    "    for asset in response[\"results\"]:\n",
    "        if filepath == asset[\"path\"]:\n",
    "            return asset[\"asset_id\"]\n",
    "    \n",
    "    if response.get(\"next\", None):\n",
    "        return _search_assets(response[\"next\"], filepath)\n",
    "    \n",
    "    raise ValueError(f'path {filepath} not found in dandiset {dandiset_id}.')\n",
    "\n",
    "\n",
    "def get_asset_id(dandiset_id, filepath):\n",
    "    url = f\"https://api.dandiarchive.org/api/dandisets/{dandiset_id}/versions/draft/assets/\"\n",
    "    return _search_assets(url, filepath)\n",
    "\n",
    "def get_s3_url(dandiset_id, filepath):\n",
    "    \"\"\"Get the s3 location for any NWB file on DANDI\"\"\"\n",
    "\n",
    "    asset_id = get_asset_id(dandiset_id, filepath)\n",
    "    url = f\"https://api.dandiarchive.org/api/dandisets/{dandiset_id}/versions/draft/assets/{asset_id}/download/\"\n",
    "    \n",
    "    s3_url = requests.request(url=url, method='head').url\n",
    "    if '?' in s3_url:\n",
    "        return s3_url[:s3_url.index('?')]\n",
    "    return s3_url"
   ]
  },
  {
   "cell_type": "code",
   "execution_count": null,
   "id": "04eb238e-9b8b-4aa2-b86c-339b63841119",
   "metadata": {},
   "outputs": [],
   "source": []
  }
 ],
 "metadata": {
  "kernelspec": {
   "display_name": "Python 3.8.0 ('stout2022_r21')",
   "language": "python",
   "name": "python3"
  },
  "language_info": {
   "codemirror_mode": {
    "name": "ipython",
    "version": 3
   },
   "file_extension": ".py",
   "mimetype": "text/x-python",
   "name": "python",
   "nbconvert_exporter": "python",
   "pygments_lexer": "ipython3",
   "version": "3.8.0"
  },
  "vscode": {
   "interpreter": {
    "hash": "a9332dbf1e8568b7d5bb47bdf88b62de7b2ac310a565c068d094e206e51f1c09"
   }
  }
 },
 "nbformat": 4,
 "nbformat_minor": 5
}
