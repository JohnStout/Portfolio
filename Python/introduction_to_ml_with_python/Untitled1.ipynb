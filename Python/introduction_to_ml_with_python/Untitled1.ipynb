{
 "cells": [
  {
   "cell_type": "markdown",
   "id": "26fdaddd-4cb6-4ce6-b385-c4eb19a93df3",
   "metadata": {},
   "source": [
    "What query can I run on existing data, rather than collecting new data?\n",
    "\n",
    "What new experiment can I design becomes what query can I run on existing data?\n",
    "\n",
    "Goal: kick start prjects that use existing neurophys data\n",
    "\n",
    "#### potential uses\n",
    "1. run pilots\n",
    "2. determine if results are present in other labs or in other species - strengthens paper\n",
    "3. Developed tool -> use on dataset\n",
    "4. "
   ]
  },
  {
   "cell_type": "markdown",
   "id": "029b0b6a-889a-49ea-9172-1ecba5ba4eb2",
   "metadata": {},
   "source": []
  }
 ],
 "metadata": {
  "kernelspec": {
   "display_name": "Python 3 (ipykernel)",
   "language": "python",
   "name": "python3"
  },
  "language_info": {
   "codemirror_mode": {
    "name": "ipython",
    "version": 3
   },
   "file_extension": ".py",
   "mimetype": "text/x-python",
   "name": "python",
   "nbconvert_exporter": "python",
   "pygments_lexer": "ipython3",
   "version": "3.9.12"
  }
 },
 "nbformat": 4,
 "nbformat_minor": 5
}
