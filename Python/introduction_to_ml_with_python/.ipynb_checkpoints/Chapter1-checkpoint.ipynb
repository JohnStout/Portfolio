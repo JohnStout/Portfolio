{
 "cells": [
  {
   "cell_type": "markdown",
   "id": "7db61f7a-4bab-4377-9ffd-5f27f0a176d6",
   "metadata": {},
   "source": [
    "# Chapter 1"
   ]
  },
  {
   "cell_type": "markdown",
   "id": "b96f19b3-e4ed-48ca-9dd0-583cc00c27ed",
   "metadata": {},
   "source": [
    "### What is a variable?"
   ]
  },
  {
   "cell_type": "code",
   "execution_count": 2,
   "id": "aea82006-ca63-4134-8522-bce18c6cc461",
   "metadata": {},
   "outputs": [
    {
     "name": "stdout",
     "output_type": "stream",
     "text": [
      "1\n"
     ]
    }
   ],
   "source": [
    "# A variable can be thought of as a physical entity, taking on certain mathematical values\n",
    "a = 1\n",
    "print(a) # use print() to display the variable below"
   ]
  },
  {
   "cell_type": "code",
   "execution_count": 5,
   "id": "59f49fbf-b02f-4622-a32b-865bc10edf39",
   "metadata": {},
   "outputs": [
    {
     "name": "stdout",
     "output_type": "stream",
     "text": [
      "[2, 3, 4, 5]\n"
     ]
    }
   ],
   "source": [
    "# A variable can take on the meaning of a single mathematical value, as well as multiple mathematical values\n",
    "b = [2,3,4,5]\n",
    "print(b)"
   ]
  },
  {
   "cell_type": "code",
   "execution_count": null,
   "id": "4c5278c4-e064-4642-9184-0fe5a0374588",
   "metadata": {},
   "outputs": [],
   "source": []
  }
 ],
 "metadata": {
  "kernelspec": {
   "display_name": "Python 3 (ipykernel)",
   "language": "python",
   "name": "python3"
  },
  "language_info": {
   "codemirror_mode": {
    "name": "ipython",
    "version": 3
   },
   "file_extension": ".py",
   "mimetype": "text/x-python",
   "name": "python",
   "nbconvert_exporter": "python",
   "pygments_lexer": "ipython3",
   "version": "3.9.12"
  }
 },
 "nbformat": 4,
 "nbformat_minor": 5
}
